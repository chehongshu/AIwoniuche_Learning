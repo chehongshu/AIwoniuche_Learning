{
 "cells": [
  {
   "cell_type": "markdown",
   "metadata": {},
   "source": [
    "# 1. 导入我们需要用到的包，此教程 包含可视化以及模型训练和测试"
   ]
  },
  {
   "cell_type": "code",
   "execution_count": 1,
   "metadata": {},
   "outputs": [],
   "source": [
    "import numpy as np\n",
    "import pandas as pd\n",
    "import matplotlib.pyplot as plt\n",
    "\n",
    "import torch\n",
    "import torch.nn as nn"
   ]
  },
  {
   "cell_type": "markdown",
   "metadata": {},
   "source": [
    "# 2. 对于demo，尝试模型，我们可以用自己模拟的数据或者公开数据集，这里为了方便，采用自己模拟sin函数，并可视化"
   ]
  },
  {
   "cell_type": "code",
   "execution_count": 2,
   "metadata": {},
   "outputs": [],
   "source": [
    "x = torch.linspace(0, 999, 1000)\n",
    "y = torch.sin(x*2*3.1415926/70)"
   ]
  },
  {
   "cell_type": "code",
   "execution_count": 3,
   "metadata": {},
   "outputs": [
    {
     "data": {
      "image/png": "[encoded data removed]",
      "text/plain": [
       "<Figure size 432x288 with 1 Axes>"
      ]
     },
     "metadata": {
      "needs_background": "light"
     },
     "output_type": "display_data"
    }
   ],
   "source": [
    "plt.xlim(-5, 1005)\n",
    "plt.xlabel('x')\n",
    "plt.ylabel('sin(x)')\n",
    "plt.title(\"sin\")\n",
    "plt.plot(y.numpy(), color='#800080')\n",
    "plt.show()"
   ]
  },
  {
   "cell_type": "markdown",
   "metadata": {},
   "source": [
    "# 3. 分训练集和测试集，并且需要对数据进行time windows分割"
   ]
  },
  {
   "cell_type": "code",
   "execution_count": 4,
   "metadata": {},
   "outputs": [],
   "source": [
    "# len(test):50 \n",
    "train_y= y[:-50]\n",
    "test_y = y[-50:]"
   ]
  },
  {
   "cell_type": "code",
   "execution_count": 5,
   "metadata": {},
   "outputs": [],
   "source": [
    "def create_data_seq(seq, time_window):\n",
    "    out = []\n",
    "    l = len(seq)\n",
    "    for i in range(l-time_window):\n",
    "        x_tw = seq[i:i+time_window]\n",
    "        y_label = seq[i+time_window:i+time_window+1]\n",
    "        out.append((x_tw, y_label))\n",
    "    return out\n",
    "time_window = 60\n",
    "train_data = create_data_seq(train_y, time_window)"
   ]
  },
  {
   "cell_type": "code",
   "execution_count": 6,
   "metadata": {},
   "outputs": [
    {
     "data": {
      "text/plain": [
       "(tensor([ 8.9639e-02,  1.7856e-01,  2.6604e-01,  3.5137e-01,  4.3388e-01,\n",
       "          5.1290e-01,  5.8779e-01,  6.5794e-01,  7.2279e-01,  7.8183e-01,\n",
       "          8.3457e-01,  8.8060e-01,  9.1953e-01,  9.5106e-01,  9.7493e-01,\n",
       "          9.9095e-01,  9.9899e-01,  9.9899e-01,  9.9095e-01,  9.7493e-01,\n",
       "          9.5106e-01,  9.1953e-01,  8.8060e-01,  8.3457e-01,  7.8183e-01,\n",
       "          7.2280e-01,  6.5794e-01,  5.8779e-01,  5.1290e-01,  4.3388e-01,\n",
       "          3.5137e-01,  2.6604e-01,  1.7856e-01,  8.9639e-02,  1.5100e-07,\n",
       "         -8.9639e-02, -1.7856e-01, -2.6604e-01, -3.5137e-01, -4.3388e-01,\n",
       "         -5.1290e-01, -5.8779e-01, -6.5794e-01, -7.2279e-01, -7.8183e-01,\n",
       "         -8.3457e-01, -8.8060e-01, -9.1953e-01, -9.5106e-01, -9.7493e-01,\n",
       "         -9.9095e-01, -9.9899e-01, -9.9899e-01, -9.9095e-01, -9.7493e-01,\n",
       "         -9.5106e-01, -9.1953e-01, -8.8060e-01, -8.3457e-01, -7.8183e-01]),\n",
       " tensor([-0.7228]))"
      ]
     },
     "execution_count": 6,
     "metadata": {},
     "output_type": "execute_result"
    }
   ],
   "source": [
    "train_data[1]"
   ]
  },
  {
   "cell_type": "code",
   "execution_count": 7,
   "metadata": {},
   "outputs": [
    {
     "data": {
      "text/plain": [
       "890"
      ]
     },
     "execution_count": 7,
     "metadata": {},
     "output_type": "execute_result"
    }
   ],
   "source": [
    "len(train_data)"
   ]
  },
  {
   "cell_type": "markdown",
   "metadata": {},
   "source": [
    "# 4. 定义lstm模型\n",
    "https://pytorch.org/docs/stable/generated/torch.nn.LSTM.html#torch.nn.LSTM\n",
    "\n",
    "https://pytorch.org/docs/stable/generated/torch.nn.Linear.html#torch.nn.Linear"
   ]
  },
  {
   "cell_type": "code",
   "execution_count": 8,
   "metadata": {},
   "outputs": [],
   "source": [
    "class MyLstm(nn.Module):\n",
    "    def __init__(self, input_size=1, hidden_size=128, out_size=1):\n",
    "        super(MyLstm, self).__init__()\n",
    "        self.hidden_size = hidden_size\n",
    "        self.lstm = nn.LSTM(input_size=input_size, hidden_size=self.hidden_size, num_layers=1, bidirectional=False)\n",
    "        self.linear = nn.Linear(in_features=self.hidden_size, out_features=out_size, bias=True)\n",
    "        self.hidden_state = (torch.zeros(1, 1, self.hidden_size), torch.zeros(1, 1, self.hidden_size))\n",
    "        \n",
    "    def forward(self, x):\n",
    "        out, self.hidden_state = self.lstm(x.view(len(x), 1, -1), self.hidden_state)\n",
    "        pred = self.linear(out.view(len(x), -1))\n",
    "        return pred[-1]"
   ]
  },
  {
   "cell_type": "markdown",
   "metadata": {},
   "source": [
    "# 5. 训练准备工作\n",
    "(1) 超参数\n",
    "\n",
    "(2) 定义loss，优化器，实例化模型\n",
    "\n",
    "(3) 训练模型，为了更加直观，加入对test_y的预测最终可视化"
   ]
  },
  {
   "cell_type": "code",
   "execution_count": 9,
   "metadata": {},
   "outputs": [],
   "source": [
    "learning_rate = 0.00001\n",
    "epoch = 10\n",
    "multi_step = 50"
   ]
  },
  {
   "cell_type": "code",
   "execution_count": 10,
   "metadata": {},
   "outputs": [],
   "source": [
    "model = MyLstm()\n",
    "mse_loss = nn.MSELoss()\n",
    "optimizer = torch.optim.Adam(model.parameters(), lr=learning_rate, betas=(0.5,0.999))"
   ]
  },
  {
   "cell_type": "code",
   "execution_count": 11,
   "metadata": {},
   "outputs": [],
   "source": [
    "device = torch.device(\"cuda:0\" if torch.cuda.is_available() else \"cpu\")"
   ]
  },
  {
   "cell_type": "code",
   "execution_count": 12,
   "metadata": {},
   "outputs": [
    {
     "data": {
      "text/plain": [
       "device(type='cuda', index=0)"
      ]
     },
     "execution_count": 12,
     "metadata": {},
     "output_type": "execute_result"
    }
   ],
   "source": [
    "device"
   ]
  },
  {
   "cell_type": "code",
   "execution_count": 13,
   "metadata": {},
   "outputs": [
    {
     "data": {
      "text/plain": [
       "MyLstm(\n",
       "  (lstm): LSTM(1, 128)\n",
       "  (linear): Linear(in_features=128, out_features=1, bias=True)\n",
       ")"
      ]
     },
     "execution_count": 13,
     "metadata": {},
     "output_type": "execute_result"
    }
   ],
   "source": [
    "model.to(device)"
   ]
  },
  {
   "cell_type": "code",
   "execution_count": null,
   "metadata": {},
   "outputs": [],
   "source": [
    "for i in range(epoch):\n",
    "    for x_seq, y_label in train_data:\n",
    "        x_seq = x_seq.to(device)\n",
    "        y_label = y_label.to(device)\n",
    "        model.hidden_state = (torch.zeros(1, 1, model.hidden_size).to(device), \n",
    "                              torch.zeros(1, 1, model.hidden_size).to(device))\n",
    "        pred = model(x_seq)\n",
    "        loss = mse_loss(y_label, pred)\n",
    "        optimizer.zero_grad()\n",
    "        loss.backward()\n",
    "        optimizer.step()\n",
    "    print(f\"Epoch {i} Loss: {loss.item()}\")\n",
    "    preds = []\n",
    "    labels = []\n",
    "    preds = train_y[-time_window:].tolist()\n",
    "    for j in range(multi_step):\n",
    "        test_seq = torch.FloatTensor(preds[-time_window:]).to(device)\n",
    "        with torch.no_grad():\n",
    "            model.hidden_state = (torch.zeros(1, 1, model.hidden_size).to(device), \n",
    "                              torch.zeros(1, 1, model.hidden_size).to(device))\n",
    "            preds.append(model(test_seq).item())\n",
    "    print(len(preds))\n",
    "    loss = mse_loss(torch.tensor(preds[-multi_step:]), torch.tensor(test_y))\n",
    "    print(f\"Performance on test range: {loss}\")\n",
    "    \n",
    "    plt.figure(figsize=(12,4))\n",
    "    plt.xlim(700,999)\n",
    "    plt.grid(True)\n",
    "    plt.plot(y.numpy(),color='#8000ff')\n",
    "    plt.plot(range(999-time_window,999),preds[-multi_step:],color='#ff8000')\n",
    "    plt.show()"
   ]
  },
  {
   "cell_type": "code",
   "execution_count": null,
   "metadata": {},
   "outputs": [],
   "source": []
  },
  {
   "cell_type": "code",
   "execution_count": null,
   "metadata": {},
   "outputs": [],
   "source": []
  }
 ],
 "metadata": {
  "kernelspec": {
   "display_name": "pych",
   "language": "python",
   "name": "pych"
  },
  "language_info": {
   "codemirror_mode": {
    "name": "ipython",
    "version": 3
   },
   "file_extension": ".py",
   "mimetype": "text/x-python",
   "name": "python",
   "nbconvert_exporter": "python",
   "pygments_lexer": "ipython3",
   "version": "3.6.2"
  }
 },
 "nbformat": 4,
 "nbformat_minor": 4
}
